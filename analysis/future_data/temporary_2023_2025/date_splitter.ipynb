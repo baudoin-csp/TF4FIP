{
 "cells": [
  {
   "cell_type": "code",
   "execution_count": 1,
   "metadata": {},
   "outputs": [],
   "source": [
    "import pandas as pd\n",
    "\n",
    "models = [\"moirai\", \"time_moe\", \"chronos\"]\n",
    "\n",
    "for model in models:\n",
    "        \n",
    "    # Define file path\n",
    "    file_path = f'analysis/future_data/es_future_final_{model}_2023_2025.csv'\n",
    "\n",
    "    # Load data with correct index parsing\n",
    "    df = pd.read_csv(file_path, index_col=0, parse_dates=True)\n",
    "\n",
    "    # Define date range\n",
    "    start_date = pd.Timestamp('2023-03-13 00:00:00', tz='US/Eastern')\n",
    "    end_date = pd.Timestamp('2024-12-13 15:00:00', tz='US/Eastern')\n",
    "\n",
    "    # Obtain index positions\n",
    "    start_idx = df.index.get_indexer([start_date])[0]\n",
    "    end_idx = df.index.get_indexer([end_date])[0]\n",
    "\n",
    "    # Filter the data using index positions\n",
    "    result = df.iloc[start_idx:end_idx + 1]\n",
    "\n",
    "    # Save the result to a new CSV file\n",
    "    result.to_csv(f'analysis/future_data/test/es_future_final_{model}_2023_2024.csv')"
   ]
  }
 ],
 "metadata": {
  "kernelspec": {
   "display_name": "venv",
   "language": "python",
   "name": "python3"
  },
  "language_info": {
   "codemirror_mode": {
    "name": "ipython",
    "version": 3
   },
   "file_extension": ".py",
   "mimetype": "text/x-python",
   "name": "python",
   "nbconvert_exporter": "python",
   "pygments_lexer": "ipython3",
   "version": "3.10.16"
  }
 },
 "nbformat": 4,
 "nbformat_minor": 2
}
